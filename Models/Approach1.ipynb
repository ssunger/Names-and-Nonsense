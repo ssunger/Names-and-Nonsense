{
 "cells": [
  {
   "cell_type": "markdown",
   "metadata": {},
   "source": [
    "# Notebook to create LM for People's Names"
   ]
  },
  {
   "cell_type": "code",
   "execution_count": 118,
   "metadata": {},
   "outputs": [],
   "source": [
    "import pandas as pd\n",
    "import torch\n",
    "import torch.nn as nn\n",
    "import torch.nn.functional as F\n",
    "import torch.optim\n",
    "import time, math, string, random"
   ]
  },
  {
   "cell_type": "markdown",
   "metadata": {},
   "source": [
    "## Preseting Parameters"
   ]
  },
  {
   "cell_type": "code",
   "execution_count": 20,
   "metadata": {},
   "outputs": [],
   "source": [
    "# Network Hyperparameters:\n",
    "\n",
    "create_ngram = False  # Create N-Grams to start\n",
    "batch_size = 1\n",
    "n_gram_size = 1\n",
    "hidden_layers = 128\n",
    "hidden_size = 1\n",
    "learning_rate = 0.005\n",
    "epochs = 1\n",
    "vocab_size = 1\n",
    "embedding_dimension = 1\n",
    "dropout = 0\n"
   ]
  },
  {
   "cell_type": "markdown",
   "metadata": {},
   "source": [
    "## Character Level Embeding"
   ]
  },
  {
   "cell_type": "code",
   "execution_count": 115,
   "metadata": {},
   "outputs": [],
   "source": [
    "all_letters = string.ascii_letters\n",
    "n_letters = int(len(all_letters)/2 + len(\";\"))\n",
    "\n",
    "import torch\n",
    "\n",
    "# Find letter index from all_letters, e.g. \"a\" = 0\n",
    "def letterToIndex(letter):\n",
    "    return all_letters.find(letter)\n",
    "\n",
    "# Just for demonstration, turn a letter into a <1 x n_letters> Tensor\n",
    "def letterToTensor(letter):\n",
    "    tensor = torch.zeros(1, n_letters)\n",
    "    tensor[0][letterToIndex(letter)] = 1\n",
    "    return tensor\n",
    "\n",
    "# Turn a line into a <line_length x 1 x n_letters>,\n",
    "# or an array of one-hot letter vectors\n",
    "def lineToTensor(line):\n",
    "    tensor = torch.zeros(len(line), 1, n_letters)\n",
    "    for li, letter in enumerate(line):\n",
    "        tensor[li][0][letterToIndex(letter)] = 1\n",
    "    return tensor\n",
    "\n",
    "def lineToTensor(line):\n",
    "    tensor = torch.zeros(len(line), 1, n_letters)\n",
    "    for li, letter in enumerate(line):\n",
    "        tensor[li][0][letterToIndex(letter)] = 1\n",
    "    return tensor\n"
   ]
  },
  {
   "cell_type": "markdown",
   "metadata": {},
   "source": [
    "# Language Model"
   ]
  },
  {
   "cell_type": "code",
   "execution_count": 134,
   "metadata": {},
   "outputs": [],
   "source": [
    "def check_input_size(input):\n",
    "    \"\"\"\n",
    "    Throws an error if the input is wrong size\n",
    "    :param input: data for model input\n",
    "    :return: Nothing\n",
    "    \"\"\"\n",
    "    if input.shape[0] != n_gram_size:\n",
    "        print(\"given input shape:\", input.shape[0], \"expected:\", n_gram_size)\n",
    "        raise RuntimeError(\"The input is not the correct n-gram\")\n",
    "    elif input.shape[1] != batch_size:\n",
    "        print(\"given input shape:\", input.shape[1], \"expected:\", batch_size)\n",
    "        raise RuntimeError(\"The input is not the correct batch-size\")\n",
    "    elif input.shape[2] != embedding_dimension:\n",
    "        print(\"given input shape:\", input.shape[2], \"expected:\", embedding_dimension)\n",
    "        raise RuntimeError(\"The input is not the correct embedding dimension\")\n",
    "\n",
    "\n",
    "class RNN(nn.Module):\n",
    "    def __init__(self, input_size, hidden_size, output_size):\n",
    "        super(RNN, self).__init__()\n",
    "\n",
    "        self.hidden_size = hidden_size\n",
    "\n",
    "        self.i2h = nn.Linear(input_size + hidden_size, hidden_size)\n",
    "        self.i2o = nn.Linear(input_size + hidden_size, output_size)\n",
    "        self.softmax = nn.LogSoftmax(dim=1)\n",
    "\n",
    "    def forward(self, input, hidden):\n",
    "        combined = torch.cat((input, hidden), 1)\n",
    "        hidden = self.i2h(combined)\n",
    "        output = self.i2o(combined)\n",
    "        output = self.softmax(output)\n",
    "        return output, hidden\n",
    "\n",
    "    def initHidden(self):\n",
    "        return torch.zeros(1, self.hidden_size)\n",
    "\n",
    "\n",
    "class run_model():\n",
    "    def __init__(self, epoch_num, where_is_dat):\n",
    "        \n",
    "        self.epoch_num = epoch_num\n",
    "        self.d = pd.DataFrame(pd.read_csv(where_is_dat))\n",
    "\n",
    "    \n",
    "    def create_dataset(self, column_list_x, column_list_y):\n",
    "        self.dx = self.d[column_list_x[0]]\n",
    "        self.dy = self.d[column_list_y[0]]\n",
    "        dx = self.dx.tolist()\n",
    "        dy = self.dy.tolist()\n",
    "        temp = lambda x: x  if type(x) == str else \"\"\n",
    "        self.max_len = max([len(temp(a)) for a in self.dx.tolist()])\n",
    "        temp = lambda x: (x + \";;;;;;;;;;;;;;;;;;;;;;;;;;;;;;\"[len(x):self.max_len]) if type(x) == str else \"\"\n",
    "        self.train_d = [( list(temp(dx[i])), dy[i]) for i in range(len(self.dy))]\n",
    "        self.train_data = [( lineToTensor(temp(dx[i])), torch.tensor([dy[i]], dtype=torch.long)) \\\n",
    "                           for i in range(len(self.dy))]\n",
    "        \n",
    "        range_for_train = random.sample(range(len(self.train_data)), int((4/5)*len(self.train_data)))\n",
    "        range_for_test =  [x for x in range(len(self.train_data)) if x not in range_for_train]\n",
    "        self.test_data = [self.train_data[i] for i in range_for_test] \n",
    "        self.train_data = [self.train_data[i] for i in range_for_train]\n",
    "        self.rnn = RNN(n_letters, 128, 2)\n",
    "\n",
    "    def train(self, category_tensor, line_tensor, learning_rate = 0.005):\n",
    "        \n",
    "        hidden = self.rnn.initHidden()\n",
    "        criterion = nn.NLLLoss()\n",
    "        rnn.zero_grad()\n",
    "\n",
    "        for i in range(line_tensor.size()[0]):\n",
    "            output, hidden = rnn(line_tensor[i], hidden)\n",
    "\n",
    "        loss = criterion(output, category_tensor)\n",
    "        loss.backward()\n",
    "\n",
    "        # Add parameters' gradients to their values, multiplied by learning rate\n",
    "        for p in rnn.parameters():\n",
    "            p.data.add_(-learning_rate, p.grad.data)\n",
    "\n",
    "        return output, loss.item()\n",
    "    \n",
    "    \n",
    "        \n",
    "    \n",
    "    def train_my_model(self):\n",
    "        n_iters = 100000\n",
    "        print_every = 5000\n",
    "        plot_every = 1000\n",
    "        \n",
    "        for i in self.epoch_num:\n",
    "            \n",
    "    \n",
    "def initial_weights():\n",
    "    h0 = torch.randn(hidden_layers, batch_size, hidden_size)\n",
    "    c0 = torch.randn(hidden_layers, batch_size, hidden_size)\n",
    "    return h0, c0"
   ]
  },
  {
   "cell_type": "code",
   "execution_count": 135,
   "metadata": {},
   "outputs": [],
   "source": [
    "mod = run_model(100, \"../Data/Brand Gender Data/English_names.csv\")\n",
    "mod.create_dataset([\"Name\"], [\"Gender\"])"
   ]
  },
  {
   "cell_type": "code",
   "execution_count": 139,
   "metadata": {},
   "outputs": [],
   "source": [
    "mod = run_model(100, \"../Data/Brand Gender Data/Brand_names.csv\")\n",
    "mod.create_dataset([\"Name\"], [\"Gender\"])"
   ]
  },
  {
   "cell_type": "code",
   "execution_count": 142,
   "metadata": {},
   "outputs": [],
   "source": [
    "mod = run_model(100, \"../Data/Animals/YouADog.csv\")\n",
    "mod.create_dataset([\"Name\"], [\"Dog\"])"
   ]
  },
  {
   "cell_type": "code",
   "execution_count": 143,
   "metadata": {},
   "outputs": [],
   "source": [
    "n_hidden = 128\n",
    "rnn = RNN(n_letters, n_hidden, 2)"
   ]
  },
  {
   "cell_type": "code",
   "execution_count": 144,
   "metadata": {},
   "outputs": [
    {
     "data": {
      "text/plain": [
       "13384"
      ]
     },
     "execution_count": 144,
     "metadata": {},
     "output_type": "execute_result"
    }
   ],
   "source": [
    "len(mod.train_data)"
   ]
  },
  {
   "cell_type": "code",
   "execution_count": 145,
   "metadata": {},
   "outputs": [
    {
     "data": {
      "text/plain": [
       "3346"
      ]
     },
     "execution_count": 145,
     "metadata": {},
     "output_type": "execute_result"
    }
   ],
   "source": [
    "len(mod.test_data)"
   ]
  },
  {
   "cell_type": "code",
   "execution_count": null,
   "metadata": {},
   "outputs": [],
   "source": []
  }
 ],
 "metadata": {
  "hide_input": false,
  "kernelspec": {
   "display_name": "Python 3",
   "language": "python",
   "name": "python3"
  },
  "language_info": {
   "codemirror_mode": {
    "name": "ipython",
    "version": 3
   },
   "file_extension": ".py",
   "mimetype": "text/x-python",
   "name": "python",
   "nbconvert_exporter": "python",
   "pygments_lexer": "ipython3",
   "version": "3.6.2"
  },
  "toc": {
   "base_numbering": 1,
   "nav_menu": {},
   "number_sections": true,
   "sideBar": true,
   "skip_h1_title": false,
   "title_cell": "Table of Contents",
   "title_sidebar": "Contents",
   "toc_cell": false,
   "toc_position": {},
   "toc_section_display": true,
   "toc_window_display": false
  }
 },
 "nbformat": 4,
 "nbformat_minor": 2
}
