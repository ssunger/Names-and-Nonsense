{
 "cells": [
  {
   "cell_type": "code",
   "execution_count": 213,
   "metadata": {},
   "outputs": [],
   "source": [
    "import pandas as pd\n",
    "import numpy as np\n",
    "import re\n",
    "import codecs"
   ]
  },
  {
   "cell_type": "markdown",
   "metadata": {},
   "source": [
    "## Cat and Dog Names"
   ]
  },
  {
   "cell_type": "code",
   "execution_count": 232,
   "metadata": {},
   "outputs": [],
   "source": [
    "d = pd.DataFrame(pd.read_csv(\"../Data/Animals/Dog_Names.csv\")[\"DogName\"])\n",
    "def small_clean(name):\n",
    "    \n",
    "    #take only first name\n",
    "    t = lambda x: x.split(\" \")[0]\n",
    "    name = t(name)\n",
    "    \n",
    "    #get rid of numbers\n",
    "    t = lambda x: \"\" if not bool(re.match('^[a-zA-Z]+$', x)) else x\n",
    "    name = t(name)\n",
    "\n",
    "    return name.lower()\n",
    "\n",
    "d1 = pd.DataFrame(set(d[\"DogName\"].apply(small_clean)), columns= [\"DogName\"]).sort_values(by = [\"DogName\"])"
   ]
  },
  {
   "cell_type": "code",
   "execution_count": 233,
   "metadata": {},
   "outputs": [],
   "source": [
    "d1.to_csv(\"../Data/Animals/Dogs.csv\")"
   ]
  },
  {
   "cell_type": "code",
   "execution_count": 234,
   "metadata": {},
   "outputs": [],
   "source": [
    "p = codecs.open(\"../Data/Animals/CatNames.txt\", 'r', encoding='utf-8', errors='ignore').readlines()\n",
    "def clean_abit(stuf,d):\n",
    "    \n",
    "    #take only first name\n",
    "    stuf = stuf[:-3].split(\" \")[0]\n",
    "    \n",
    "    #get rid of numbers\n",
    "    t = lambda x: \"\" if not bool(re.match('^[a-zA-Z]+$', x)) else x\n",
    "    stuf = t(stuf)\n",
    "    \n",
    "    #remove ~\n",
    "    stuf = stuf.replace(\"~\",\"\")\n",
    "    \n",
    "    stuf = stuf.lower()\n",
    "    #get rid of names that are also dog names\n",
    "    t = lambda x:  \"\" if x in d[\"DogName\"] else x\n",
    "    stuf = t(stuf)\n",
    "    \n",
    "    #get rid of 's\n",
    "    t = lambda x: x[-2] if \"'s\" in x else x\n",
    "    stuf = t(stuf)\n",
    "    \n",
    "    #change acronyms to letters\n",
    "    if \".\" in stuf:\n",
    "        return stuf.replace(\".\", \"\")\n",
    "    else:\n",
    "        return stuf\n",
    "d2 = pd.DataFrame(list(set([clean_abit(t, d1) for t in p])), columns=[\"CatName\"])\n",
    "d2.to_csv(\"../Data/Animals/Cats.csv\")"
   ]
  },
  {
   "cell_type": "code",
   "execution_count": 235,
   "metadata": {},
   "outputs": [],
   "source": [
    "d1.columns = [\"Name\"]\n",
    "d1[\"Dog\"] = 1\n",
    "d2.columns = [\"Name\"]\n",
    "d2[\"Dog\"] = 0\n",
    "d = pd.concat([d1,d2])\n",
    "d[\"Name\"].replace('', np.nan, inplace=True)\n",
    "d.dropna(subset=['Name'], inplace=True)\n",
    "d = d.reset_index().drop(columns = [\"index\"])\n",
    "d = d.dropna()\n",
    "d.to_csv(\"../Data/Animals/YouADog.csv\")"
   ]
  },
  {
   "cell_type": "code",
   "execution_count": null,
   "metadata": {},
   "outputs": [],
   "source": []
  }
 ],
 "metadata": {
  "hide_input": false,
  "kernelspec": {
   "display_name": "Python 3",
   "language": "python",
   "name": "python3"
  },
  "language_info": {
   "codemirror_mode": {
    "name": "ipython",
    "version": 3
   },
   "file_extension": ".py",
   "mimetype": "text/x-python",
   "name": "python",
   "nbconvert_exporter": "python",
   "pygments_lexer": "ipython3",
   "version": "3.6.7"
  },
  "toc": {
   "base_numbering": 1,
   "nav_menu": {},
   "number_sections": true,
   "sideBar": true,
   "skip_h1_title": false,
   "title_cell": "Table of Contents",
   "title_sidebar": "Contents",
   "toc_cell": false,
   "toc_position": {},
   "toc_section_display": true,
   "toc_window_display": false
  }
 },
 "nbformat": 4,
 "nbformat_minor": 2
}
