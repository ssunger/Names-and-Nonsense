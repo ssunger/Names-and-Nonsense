{
 "cells": [
  {
   "cell_type": "markdown",
   "metadata": {},
   "source": [
    "# Notebook to create LM for People's Names"
   ]
  },
  {
   "cell_type": "code",
   "execution_count": 93,
   "metadata": {},
   "outputs": [],
   "source": [
    "import pandas as pd\n",
    "import torch\n",
    "import torch.nn as nn\n",
    "import torch.nn.functional as F\n",
    "import torch.optim\n",
    "import time\n",
    "import math"
   ]
  },
  {
   "cell_type": "code",
   "execution_count": 94,
   "metadata": {},
   "outputs": [],
   "source": [
    "# Network Hyperparameters:\n",
    "\n",
    "create_ngram = False  # Create N-Grams to start\n",
    "batch_size = 1\n",
    "n_gram_size = 1\n",
    "hidden_layers = 1\n",
    "hidden_size = 1\n",
    "learning_rate = 0.01\n",
    "epochs = 1\n",
    "vocab_size = 1\n",
    "embedding_dimension = 1\n",
    "dropout = 0\n",
    "\n",
    "\n",
    "# Embedding\n",
    "\n",
    "#embed = torch.nn.Embedding(vocab_size, embedding_dim)\n",
    "\n",
    "# Model input\n",
    "\n",
    "#model_input = embed(data) # Should be (ngram size x batch size x embedding dimension)"
   ]
  },
  {
   "cell_type": "code",
   "execution_count": 126,
   "metadata": {},
   "outputs": [],
   "source": [
    "def check_input_size(input):\n",
    "    \"\"\"\n",
    "    Throws an error if the input is wrong size\n",
    "    :param input: data for model input\n",
    "    :return: Nothing\n",
    "    \"\"\"\n",
    "    if input.shape[0] != n_gram_size:\n",
    "        print(\"given input shape:\", input.shape[0], \"expected:\", n_gram_size)\n",
    "        raise RuntimeError(\"The input is not the correct n-gram\")\n",
    "    elif input.shape[1] != batch_size:\n",
    "        print(\"given input shape:\", input.shape[1], \"expected:\", batch_size)\n",
    "        raise RuntimeError(\"The input is not the correct batch-size\")\n",
    "    elif input.shape[2] != embedding_dimension:\n",
    "        print(\"given input shape:\", input.shape[2], \"expected:\", embedding_dimension)\n",
    "        raise RuntimeError(\"The input is not the correct embedding dimension\")\n",
    "\n",
    "\n",
    "class Model1(nn.Module):\n",
    "    def __init__(self):\n",
    "        \"\"\"\n",
    "        Thanks to Michal\n",
    "        \"\"\"\n",
    "        super(Model1, self).__init__()\n",
    "\n",
    "        self.RNN1 = nn.Sequential(\n",
    "            nn.RNN(input_size=embedding_dimension, hidden_size=hidden_size, num_layers=hidden_layers,\n",
    "                   dropout=dropout),\n",
    "            nn.MaxPool1d(),\n",
    "            nn.SELU()\n",
    "        )\n",
    "\n",
    "        self.FC1 = nn.Sequential(\n",
    "            nn.Linear(),\n",
    "            nn.MaxPool1d(),\n",
    "            nn.SELU()\n",
    "        )\n",
    "\n",
    "        self.RNN2 = nn.Sequential(\n",
    "            nn.RNN(input_size=embedding_dimension, hidden_size=hidden_size, num_layers=hidden_layers,\n",
    "                   dropout=dropout),\n",
    "            nn.MaxPool1d(),\n",
    "            nn.Tanh()\n",
    "        )\n",
    "\n",
    "    def forward(self, x):\n",
    "        self.out1 = self.RNN1(x),\n",
    "        self.out2 = self.RNN2(self.out1)\n",
    "        return self.out2\n",
    "\n",
    "\n",
    "class run_model():\n",
    "    \n",
    "    def __init__(self, epoch_num, where_is_dat):\n",
    "        \n",
    "        self.epoch_num = epoch_num\n",
    "        self.d = pd.DataFrame(pd.read_csv(where_is_dat))\n",
    "\n",
    "    \n",
    "    def create_dataset(self, column_list_x, column_list_y):\n",
    "        self.dx = self.d[column_list_x]\n",
    "        self.dy = self.d[column_list_y]\n",
    "        self.max_len = max([len(a[0]) for a in self.dx.values])\n",
    "        self.train_d = [([a for a in self.dx.values[i][0]], self.dy.values[i][0]) for i in range(len(self.dy))]\n",
    "        \n",
    "    \n",
    "    \n",
    "    def train_my_model(self):\n",
    "        \n",
    "        for i in self.epoch_num:\n",
    "            t\n",
    "    \n",
    "def initial_weights():\n",
    "    h0 = torch.randn(hidden_layers, batch_size, hidden_size)\n",
    "    c0 = torch.randn(hidden_layers, batch_size, hidden_size)\n",
    "    return h0, c0\n"
   ]
  },
  {
   "cell_type": "code",
   "execution_count": 125,
   "metadata": {},
   "outputs": [
    {
     "data": {
      "text/plain": [
       "[(['a', 'a', 'd', 'e', 'n'], 0),\n",
       " (['a', 'a', 'd', 'h', 'y', 'a'], 1),\n",
       " (['a', 'a', 'l', 'i', 'y', 'a', 'h'], 1),\n",
       " (['a', 'a', 'n', 'y', 'a'], 1),\n",
       " (['a', 'a', 'r', 'a', 'v'], 0),\n",
       " (['a', 'a', 'r', 'u', 's', 'h'], 0),\n",
       " (['a', 'b'], 0)]"
      ]
     },
     "execution_count": 125,
     "metadata": {},
     "output_type": "execute_result"
    }
   ],
   "source": [
    "mod = run_model(100, \"../Data/Brand Gender Data/English_names.csv\")\n",
    "mod.create_dataset([\"Name\"], [\"Gender\"])\n",
    "mod.train_d[:7]"
   ]
  },
  {
   "cell_type": "code",
   "execution_count": 123,
   "metadata": {},
   "outputs": [
    {
     "data": {
      "text/plain": [
       "[(['a', 'd', 'v', 'i', 'l'], 0),\n",
       " (['a', 'l', 'e', 'v', 'e'], 1),\n",
       " (['a', 'l', 'l', 'i', 'v', 'i', 'a', 'x'], 1),\n",
       " (['a', 'n', 'a', 'l', 'g', 'e', 'n'], 0),\n",
       " (['a', 'r', 'n', 'i', 'c', 'a', 'r', 'e'], 1),\n",
       " (['a', 's', 't', 'e', 'e', 'z', 'a'], 1),\n",
       " (['a', 'u', 's', 'a', 'n', 'i', 'l'], 0)]"
      ]
     },
     "execution_count": 123,
     "metadata": {},
     "output_type": "execute_result"
    }
   ],
   "source": [
    "mod = run_model(100, \"../Data/Brand Gender Data/Brand_names.csv\")\n",
    "mod.create_dataset([\"Name\"], [\"Gender\"])\n",
    "mod.train_d[:7]"
   ]
  },
  {
   "cell_type": "markdown",
   "metadata": {},
   "source": [
    "# Need to do:\n",
    "    - Create character level embeddings\n",
    "    - Traing_data rembeding representation\n",
    "    - Finish model setup"
   ]
  }
 ],
 "metadata": {
  "hide_input": false,
  "kernelspec": {
   "display_name": "Python 3",
   "language": "python",
   "name": "python3"
  },
  "language_info": {
   "codemirror_mode": {
    "name": "ipython",
    "version": 3
   },
   "file_extension": ".py",
   "mimetype": "text/x-python",
   "name": "python",
   "nbconvert_exporter": "python",
   "pygments_lexer": "ipython3",
   "version": "3.6.2"
  },
  "toc": {
   "base_numbering": 1,
   "nav_menu": {},
   "number_sections": true,
   "sideBar": true,
   "skip_h1_title": false,
   "title_cell": "Table of Contents",
   "title_sidebar": "Contents",
   "toc_cell": false,
   "toc_position": {},
   "toc_section_display": true,
   "toc_window_display": false
  }
 },
 "nbformat": 4,
 "nbformat_minor": 2
}
