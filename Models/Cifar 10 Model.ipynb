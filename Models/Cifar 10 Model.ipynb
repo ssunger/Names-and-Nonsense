{
 "cells": [
  {
   "cell_type": "code",
   "execution_count": 21,
   "metadata": {},
   "outputs": [
    {
     "data": {
      "text/plain": [
       "'/Users/michalmalyska/Desktop/Extracurriculars/Fields Presentation/Names-and-Nonsense/Data/Cifar 10/'"
      ]
     },
     "execution_count": 21,
     "metadata": {},
     "output_type": "execute_result"
    }
   ],
   "source": [
    "import torch\n",
    "import torchvision\n",
    "import torchvision.transforms as transforms\n",
    "import os\n",
    "import matplotlib.pyplot as plt\n",
    "import numpy as np\n",
    "import torch.nn as nn\n",
    "import torch.nn.functional as F\n",
    "import torch.optim as optim\n",
    "from PIL import Image\n",
    "import torchvision.transforms.functional as TF\n",
    "parent = os.path.dirname(os.getcwd())\n",
    "data = parent + \"/Data/Cifar 10/\"\n",
    "data"
   ]
  },
  {
   "cell_type": "markdown",
   "metadata": {},
   "source": [
    "# Data Import and Transform"
   ]
  },
  {
   "cell_type": "code",
   "execution_count": 23,
   "metadata": {},
   "outputs": [],
   "source": [
    "transform = transforms.Compose(\n",
    "    [transforms.ToTensor(),\n",
    "     transforms.Normalize((0.5, 0.5, 0.5), (0.5, 0.5, 0.5))])\n",
    "\n",
    "trainset = torchvision.datasets.CIFAR10(root=data,\n",
    "                                        train=True,\n",
    "                                        download=False, \n",
    "                                        transform=transform)\n",
    "trainloader = torch.utils.data.DataLoader(trainset, \n",
    "                                          batch_size=4,\n",
    "                                          shuffle=True)\n",
    "\n",
    "testset = torchvision.datasets.CIFAR10(root='./data', \n",
    "                                       train=False,\n",
    "                                       download=False, \n",
    "                                       transform=transform)\n",
    "testloader = torch.utils.data.DataLoader(testset, \n",
    "                                         batch_size=4,\n",
    "                                         shuffle=False)\n",
    "\n",
    "classes = ('plane', 'car', 'bird', 'cat', 'deer', \n",
    "           'dog', 'frog', 'horse', 'ship', 'truck')"
   ]
  },
  {
   "cell_type": "code",
   "execution_count": 24,
   "metadata": {},
   "outputs": [
    {
     "data": {
      "image/png": "[encoded data removed]",
      "text/plain": [
       "<Figure size 864x180 with 4 Axes>"
      ]
     },
     "metadata": {},
     "output_type": "display_data"
    }
   ],
   "source": [
    "def convert_to_imshow_format(image):\n",
    "    # first convert back to [0,1] range from [-1,1] range\n",
    "    image = image / 2 + 0.5\n",
    "    image = image.numpy()\n",
    "    # convert from CHW to HWC\n",
    "    # from 3x32x32 to 32x32x3\n",
    "    return image.transpose(1,2,0)\n",
    "\n",
    "dataiter = iter(trainloader)\n",
    "images, labels = dataiter.next()\n",
    "\n",
    "fig, axes = plt.subplots(1, len(images), figsize=(12,2.5))\n",
    "for idx, image in enumerate(images):\n",
    "    axes[idx].imshow(convert_to_imshow_format(image))\n",
    "    axes[idx].set_title(classes[labels[idx]])\n",
    "    axes[idx].set_xticks([])\n",
    "    axes[idx].set_yticks([])"
   ]
  },
  {
   "cell_type": "code",
   "execution_count": 38,
   "metadata": {},
   "outputs": [],
   "source": [
    "class Net(nn.Module):\n",
    "    def __init__(self):\n",
    "        super(Net, self).__init__()\n",
    "        self.conv1 = nn.Conv2d(3, 6, 5)\n",
    "        self.pool = nn.MaxPool2d(2, 2)\n",
    "        self.conv2 = nn.Conv2d(6, 16, 5)\n",
    "        self.fc1 = nn.Linear(16 * 5 * 5, 120)\n",
    "        self.fc2 = nn.Linear(120, 84)\n",
    "        self.fc3 = nn.Linear(84, 10)\n",
    "\n",
    "    def forward(self, x):\n",
    "        x = self.pool(F.relu(self.conv1(x)))\n",
    "        x = self.pool(F.relu(self.conv2(x)))\n",
    "        x = x.view(-1, 16 * 5 * 5)\n",
    "        x = F.relu(self.fc1(x))\n",
    "        x = F.relu(self.fc2(x))\n",
    "        x = self.fc3(x)\n",
    "        return x\n",
    "    \n",
    "net = Net()"
   ]
  },
  {
   "cell_type": "code",
   "execution_count": 26,
   "metadata": {},
   "outputs": [],
   "source": [
    "criterion = nn.CrossEntropyLoss()\n",
    "optimizer = optim.SGD(net.parameters(), lr=0.001, momentum=0.9)"
   ]
  },
  {
   "cell_type": "code",
   "execution_count": 40,
   "metadata": {},
   "outputs": [
    {
     "name": "stdout",
     "output_type": "stream",
     "text": [
      "[1,  2000] loss: 1.228\n",
      "[1,  4000] loss: 1.236\n",
      "[1,  6000] loss: 1.244\n",
      "[1,  8000] loss: 1.220\n",
      "[1, 10000] loss: 1.214\n",
      "[1, 12000] loss: 1.248\n",
      "[2,  2000] loss: 1.225\n",
      "[2,  4000] loss: 1.238\n",
      "[2,  6000] loss: 1.236\n",
      "[2,  8000] loss: 1.240\n",
      "[2, 10000] loss: 1.227\n",
      "[2, 12000] loss: 1.235\n",
      "[3,  2000] loss: 1.231\n",
      "[3,  4000] loss: 1.247\n",
      "[3,  6000] loss: 1.225\n",
      "[3,  8000] loss: 1.238\n",
      "[3, 10000] loss: 1.239\n",
      "[3, 12000] loss: 1.223\n",
      "Finished Training.\n",
      "Saved model parameters to disk.\n"
     ]
    }
   ],
   "source": [
    "model_directory_path = os.getcwd()\n",
    "model_path = model_directory_path + '/cifar-10-cnn-model.pt'\n",
    "\n",
    "if not os.path.exists(model_directory_path):\n",
    "    os.makedirs(model_directory_path)\n",
    "\n",
    "if os.path.isfile(model_path):\n",
    "    # load trained model parameters from disk\n",
    "    net.load_state_dict(torch.load(model_path))\n",
    "    print('Loaded model parameters from disk.')\n",
    "else:\n",
    "    for epoch in range(3):  # loop over the dataset multiple times\n",
    "\n",
    "        running_loss = 0.0\n",
    "        for i, data in enumerate(trainloader, 0):\n",
    "            # get the inputs\n",
    "            inputs, labels = data\n",
    "\n",
    "            # zero the parameter gradients\n",
    "            optimizer.zero_grad()\n",
    "\n",
    "            # forward + backward + optimize\n",
    "            outputs = net(inputs)\n",
    "            loss = criterion(outputs, labels)\n",
    "            loss.backward()\n",
    "            optimizer.step()\n",
    "\n",
    "            # print statistics\n",
    "            running_loss += loss.item()\n",
    "            if i % 2000 == 1999:    # print every 2000 mini-batches\n",
    "                print('[%d, %5d] loss: %.3f' %\n",
    "                      (epoch + 1, i + 1, running_loss / 2000))\n",
    "                running_loss = 0.0\n",
    "    print('Finished Training.')\n",
    "    torch.save(net.state_dict(), model_path)\n",
    "    print('Saved model parameters to disk.')"
   ]
  },
  {
   "cell_type": "code",
   "execution_count": 52,
   "metadata": {},
   "outputs": [
    {
     "name": "stdout",
     "output_type": "stream",
     "text": [
      "tensor([[[ 0.2392,  0.2471,  0.2941,  ...,  0.0745, -0.0118, -0.0902],\n",
      "         [ 0.1922,  0.1843,  0.2471,  ...,  0.0667, -0.0196, -0.0667],\n",
      "         [ 0.1843,  0.1843,  0.2392,  ...,  0.0902,  0.0196, -0.0588],\n",
      "         ...,\n",
      "         [-0.4667, -0.6706, -0.7569,  ..., -0.7020, -0.8980, -0.6863],\n",
      "         [-0.5216, -0.6157, -0.7255,  ..., -0.7961, -0.7725, -0.8431],\n",
      "         [-0.5765, -0.5608, -0.6471,  ..., -0.8118, -0.7333, -0.8353]],\n",
      "\n",
      "        [[-0.1216, -0.1294, -0.0902,  ..., -0.2549, -0.2863, -0.3333],\n",
      "         [-0.1216, -0.1373, -0.1059,  ..., -0.2549, -0.2863, -0.3098],\n",
      "         [-0.1373, -0.1451, -0.1294,  ..., -0.2314, -0.2549, -0.3020],\n",
      "         ...,\n",
      "         [-0.0275, -0.2157, -0.3098,  ..., -0.2392, -0.4980, -0.3333],\n",
      "         [-0.0902, -0.2000, -0.3333,  ..., -0.3569, -0.3569, -0.4980],\n",
      "         [-0.1608, -0.1765, -0.3020,  ..., -0.3961, -0.3412, -0.4745]],\n",
      "\n",
      "        [[-0.6157, -0.6314, -0.6000,  ..., -0.7176, -0.7176, -0.7412],\n",
      "         [-0.6000, -0.6863, -0.6471,  ..., -0.7569, -0.7490, -0.7333],\n",
      "         [-0.6314, -0.7412, -0.7176,  ..., -0.7333, -0.7333, -0.7412],\n",
      "         ...,\n",
      "         [ 0.3882,  0.1608,  0.0745,  ...,  0.1451, -0.1529, -0.0039],\n",
      "         [ 0.3176,  0.1608,  0.0353,  ...,  0.0196, -0.0118, -0.1608],\n",
      "         [ 0.2549,  0.1686,  0.0353,  ..., -0.0275,  0.0118, -0.1373]]])\n",
      "tensor([[2.3689e-02, 4.8451e-03, 4.3964e-02, 5.0466e-01, 3.2914e-02, 1.7368e-01,\n",
      "         1.3581e-01, 2.4915e-02, 4.7134e-02, 8.3883e-03],\n",
      "        [4.9792e-02, 3.4019e-02, 7.4857e-06, 2.4676e-06, 8.7296e-07, 1.9211e-07,\n",
      "         1.3890e-07, 2.5427e-06, 9.1515e-01, 1.0289e-03],\n",
      "        [1.1110e-01, 1.7283e-01, 2.2058e-03, 4.4386e-03, 1.2645e-03, 1.2205e-03,\n",
      "         7.1306e-04, 3.2557e-03, 6.5609e-01, 4.6877e-02],\n",
      "        [1.1305e-01, 1.2920e-02, 3.0055e-03, 1.8991e-03, 6.2947e-04, 2.1616e-04,\n",
      "         5.2696e-04, 5.0559e-04, 8.6347e-01, 3.7835e-03]],\n",
      "       grad_fn=<SoftmaxBackward>)\n"
     ]
    },
    {
     "data": {
      "image/png": "[encoded data removed]",
      "text/plain": [
       "<Figure size 864x180 with 4 Axes>"
      ]
     },
     "metadata": {},
     "output_type": "display_data"
    }
   ],
   "source": [
    "dataiter = iter(testloader)\n",
    "images, labels = dataiter.next()\n",
    "\n",
    "fig, axes = plt.subplots(1, len(images), figsize=(12,2.5))\n",
    "for idx, image in enumerate(images):\n",
    "    axes[idx].imshow(convert_to_imshow_format(image))\n",
    "    axes[idx].set_title(classes[labels[idx]])\n",
    "    axes[idx].set_xticks([])\n",
    "    axes[idx].set_yticks([])\n",
    "\n",
    "print(images[0])\n",
    "outputs = net(images)\n",
    "sm = nn.Softmax(dim=1)\n",
    "sm_outputs = sm(outputs)\n",
    "print(sm_outputs)"
   ]
  },
  {
   "cell_type": "code",
   "execution_count": 100,
   "metadata": {},
   "outputs": [
    {
     "name": "stdout",
     "output_type": "stream",
     "text": [
      "Model accuracy on 10000 test images: 54.56%\n"
     ]
    }
   ],
   "source": [
    "total_correct = 0\n",
    "total_images = 0\n",
    "confusion_matrix = np.zeros([10,10], int)\n",
    "with torch.no_grad():\n",
    "    for data in testloader:\n",
    "        images, labels = data\n",
    "        outputs = net(images)\n",
    "        _, predicted = torch.max(outputs.data, 1)\n",
    "        total_images += labels.size(0)\n",
    "        total_correct += (predicted == labels).sum().item()\n",
    "        for i, l in enumerate(labels):\n",
    "            confusion_matrix[l.item(), predicted[i].item()] += 1 \n",
    "\n",
    "model_accuracy = total_correct / total_images * 100\n",
    "print('Model accuracy on {0} test images: {1:.2f}%'.format(total_images, model_accuracy))\n"
   ]
  },
  {
   "cell_type": "code",
   "execution_count": 102,
   "metadata": {},
   "outputs": [
    {
     "data": {
      "image/png": "[encoded data removed]",
      "text/plain": [
       "<Figure size 576x432 with 1 Axes>"
      ]
     },
     "metadata": {
      "needs_background": "light"
     },
     "output_type": "display_data"
    }
   ],
   "source": [
    "fig, ax = plt.subplots(1,1,figsize=(8,6))\n",
    "ax.matshow(confusion_matrix, aspect='auto', vmin=0, vmax=1000, cmap=plt.get_cmap('Reds'))\n",
    "plt.ylabel('Actual Category')\n",
    "plt.yticks(range(10), classes)\n",
    "plt.xlabel('Predicted Category')\n",
    "plt.xticks(range(10), classes)\n",
    "plt.show()"
   ]
  },
  {
   "cell_type": "code",
   "execution_count": null,
   "metadata": {},
   "outputs": [],
   "source": []
  },
  {
   "cell_type": "markdown",
   "metadata": {},
   "source": [
    "# Predict Logos"
   ]
  },
  {
   "cell_type": "code",
   "execution_count": 43,
   "metadata": {},
   "outputs": [],
   "source": []
  },
  {
   "cell_type": "code",
   "execution_count": 113,
   "metadata": {},
   "outputs": [
    {
     "name": "stdout",
     "output_type": "stream",
     "text": [
      "(tensor(8), tensor([0.2542, 0.0107, 0.0677, 0.1544, 0.0269, 0.0642, 0.0339, 0.0139, 0.3612,\n",
      "        0.0129], grad_fn=<SelectBackward>))\n",
      "(tensor(0), tensor([0.4596, 0.0025, 0.0208, 0.0300, 0.0098, 0.0246, 0.0019, 0.0066, 0.4413,\n",
      "        0.0030], grad_fn=<SelectBackward>))\n",
      "(tensor(0), tensor([0.3951, 0.0827, 0.1331, 0.0779, 0.0164, 0.0275, 0.0129, 0.0307, 0.1652,\n",
      "        0.0586], grad_fn=<SelectBackward>))\n",
      "(tensor(8), tensor([0.1667, 0.0291, 0.1031, 0.1281, 0.0558, 0.0715, 0.0434, 0.0304, 0.3406,\n",
      "        0.0313], grad_fn=<SelectBackward>))\n",
      "(tensor(5), tensor([0.0597, 0.0017, 0.1684, 0.1645, 0.0577, 0.3066, 0.0155, 0.1503, 0.0651,\n",
      "        0.0105], grad_fn=<SelectBackward>))\n",
      "(tensor(3), tensor([0.0302, 0.0216, 0.0842, 0.3404, 0.0206, 0.3148, 0.0441, 0.0570, 0.0687,\n",
      "        0.0186], grad_fn=<SelectBackward>))\n",
      "(tensor(3), tensor([0.1123, 0.0092, 0.1643, 0.2232, 0.0739, 0.1940, 0.0538, 0.0429, 0.1105,\n",
      "        0.0161], grad_fn=<SelectBackward>))\n"
     ]
    }
   ],
   "source": [
    "new_logos = parent + \"/Data/logos\"\n",
    "new_logos\n",
    "\n",
    "def alpha_to_color(image, color=(255, 255, 255)):\n",
    "    \"\"\"Set all fully transparent pixels of an RGBA image to the specified color.\n",
    "    This is a very simple solution that might leave over some ugly edges, due\n",
    "    to semi-transparent areas. You should use alpha_composite_with color instead.\n",
    "\n",
    "    Source: http://stackoverflow.com/a/9166671/284318\n",
    "\n",
    "    Keyword Arguments:\n",
    "    image -- PIL RGBA Image object\n",
    "    color -- Tuple r, g, b (default 255, 255, 255)\n",
    "\n",
    "    \"\"\" \n",
    "    x = np.array(image)\n",
    "    r, g, b, a = np.rollaxis(x, axis=-1)\n",
    "    r[a == 0] = color[0]\n",
    "    g[a == 0] = color[1]\n",
    "    b[a == 0] = color[2] \n",
    "    x = np.dstack([r, g, b])\n",
    "    return Image.fromarray(x, 'RGB')\n",
    "\n",
    "def predict_from_png(path):\n",
    "    \n",
    "    image = Image.open(new_logos + path)\n",
    "    #print(image)\n",
    "    image = alpha_to_color(image)\n",
    "    #print(image)\n",
    "    x = TF.to_tensor(image)\n",
    "    #print(x.shape)\n",
    "    x.unsqueeze_(0)\n",
    "    #print(x.shape)\n",
    "    output = net(x)\n",
    "    probabilities = sm(output)\n",
    "    _, predicted = torch.max(output.data, 1)\n",
    "    return predicted[0], probabilities[0]\n",
    "\n",
    "# airplane : 0\n",
    "# automobile : 1\n",
    "# bird : 2\n",
    "# cat : 3\n",
    "# deer : 4\n",
    "# dog : 5\n",
    "# frog : 6\n",
    "# horse : 7\n",
    "# ship : 8\n",
    "# truck : 9\n",
    "\n",
    "print(predict_from_png(\"/dodge.png\"))\n",
    "print(predict_from_png(\"/linkedin.png\"))\n",
    "print(predict_from_png(\"/pepsi.png\"))\n",
    "print(predict_from_png(\"/Michal.png\"))\n",
    "print(predict_from_png(\"/Shawn.png\"))\n",
    "print(predict_from_png(\"/Alin.png\"))\n",
    "print(predict_from_png(\"/David.png\"))\n"
   ]
  },
  {
   "cell_type": "code",
   "execution_count": null,
   "metadata": {},
   "outputs": [],
   "source": []
  }
 ],
 "metadata": {
  "kernelspec": {
   "display_name": "Python 3",
   "language": "python",
   "name": "python3"
  },
  "language_info": {
   "codemirror_mode": {
    "name": "ipython",
    "version": 3
   },
   "file_extension": ".py",
   "mimetype": "text/x-python",
   "name": "python",
   "nbconvert_exporter": "python",
   "pygments_lexer": "ipython3",
   "version": "3.7.3"
  }
 },
 "nbformat": 4,
 "nbformat_minor": 2
}
